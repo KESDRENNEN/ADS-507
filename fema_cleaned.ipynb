{
 "cells": [
  {
   "cell_type": "code",
   "execution_count": 1,
   "id": "44a5361c-a977-485a-9efe-9cc70ca8e319",
   "metadata": {},
   "outputs": [
    {
     "name": "stdout",
     "output_type": "stream",
     "text": [
      "Requirement already satisfied: pandas in c:\\users\\kesdr\\miniconda3\\envs\\adsfinal\\lib\\site-packages (2.2.3)\n",
      "Requirement already satisfied: numpy>=1.26.0 in c:\\users\\kesdr\\miniconda3\\envs\\adsfinal\\lib\\site-packages (from pandas) (2.2.2)\n",
      "Requirement already satisfied: python-dateutil>=2.8.2 in c:\\users\\kesdr\\miniconda3\\envs\\adsfinal\\lib\\site-packages (from pandas) (2.9.0)\n",
      "Requirement already satisfied: pytz>=2020.1 in c:\\users\\kesdr\\miniconda3\\envs\\adsfinal\\lib\\site-packages (from pandas) (2024.1)\n",
      "Requirement already satisfied: tzdata>=2022.7 in c:\\users\\kesdr\\miniconda3\\envs\\adsfinal\\lib\\site-packages (from pandas) (2025.1)\n",
      "Requirement already satisfied: six>=1.5 in c:\\users\\kesdr\\miniconda3\\envs\\adsfinal\\lib\\site-packages (from python-dateutil>=2.8.2->pandas) (1.16.0)\n"
     ]
    }
   ],
   "source": [
    "!pip install pandas"
   ]
  },
  {
   "cell_type": "code",
   "execution_count": 2,
   "id": "34a878ee-839c-4873-a442-92f124c099a0",
   "metadata": {},
   "outputs": [
    {
     "name": "stdout",
     "output_type": "stream",
     "text": [
      "Requirement already satisfied: scikit-learn in c:\\users\\kesdr\\miniconda3\\envs\\adsfinal\\lib\\site-packages (1.6.1)\n",
      "Requirement already satisfied: numpy>=1.19.5 in c:\\users\\kesdr\\miniconda3\\envs\\adsfinal\\lib\\site-packages (from scikit-learn) (2.2.2)\n",
      "Requirement already satisfied: scipy>=1.6.0 in c:\\users\\kesdr\\miniconda3\\envs\\adsfinal\\lib\\site-packages (from scikit-learn) (1.15.1)\n",
      "Requirement already satisfied: joblib>=1.2.0 in c:\\users\\kesdr\\miniconda3\\envs\\adsfinal\\lib\\site-packages (from scikit-learn) (1.4.2)\n",
      "Requirement already satisfied: threadpoolctl>=3.1.0 in c:\\users\\kesdr\\miniconda3\\envs\\adsfinal\\lib\\site-packages (from scikit-learn) (3.5.0)\n"
     ]
    }
   ],
   "source": [
    "!pip install scikit-learn"
   ]
  },
  {
   "cell_type": "code",
   "execution_count": 3,
   "id": "0be815c6-02c9-4928-be26-1288edef2f9c",
   "metadata": {},
   "outputs": [],
   "source": [
    "import pandas as pd\n",
    "from scipy import stats\n",
    "from sklearn.cluster import KMeans\n",
    "import numpy as np"
   ]
  },
  {
   "cell_type": "code",
   "execution_count": 4,
   "id": "16f84c9e-72c9-4f68-848c-dcbe9dbcb4c5",
   "metadata": {},
   "outputs": [
    {
     "name": "stdout",
     "output_type": "stream",
     "text": [
      "  femaDeclarationString  disasterNumber state declarationType  \\\n",
      "0            FM-5522-CA            5522    CA              FM   \n",
      "1            FM-5519-CA            5519    CA              FM   \n",
      "2            FM-5519-CA            5519    CA              FM   \n",
      "3            FM-5515-CA            5515    CA              FM   \n",
      "4            FM-5503-CA            5503    CA              FM   \n",
      "\n",
      "            declarationDate  fyDeclared incidentType declarationTitle  \\\n",
      "0  2024-07-27T00:00:00.000Z        2024         Fire       BOREL FIRE   \n",
      "1  2024-07-25T00:00:00.000Z        2024         Fire        PARK FIRE   \n",
      "2  2024-07-25T00:00:00.000Z        2024         Fire        PARK FIRE   \n",
      "3  2024-07-21T00:00:00.000Z        2024         Fire    HAWARDEN FIRE   \n",
      "4  2024-07-05T00:00:00.000Z        2024         Fire      FRENCH FIRE   \n",
      "\n",
      "   ihProgramDeclared  iaProgramDeclared  ...  placeCode      designatedArea  \\\n",
      "0              False              False  ...      99029       Kern (County)   \n",
      "1              False              False  ...      99007      Butte (County)   \n",
      "2              False              False  ...      99103     Tehama (County)   \n",
      "3              False              False  ...      99065  Riverside (County)   \n",
      "4              False              False  ...      99043   Mariposa (County)   \n",
      "\n",
      "  declarationRequestNumber lastIAFilingDate  incidentId  region  \\\n",
      "0                    24102              NaN  2024072701       9   \n",
      "1                    24097              NaN  2024072502       9   \n",
      "2                    24097              NaN  2024072502       9   \n",
      "3                    24088              NaN  2024072201       9   \n",
      "4                    24079              NaN  2024070501       9   \n",
      "\n",
      "   designatedIncidentTypes               lastRefresh  \\\n",
      "0                        R  2024-08-27T18:22:14.800Z   \n",
      "1                        R  2024-08-27T18:22:14.800Z   \n",
      "2                        R  2024-08-27T18:22:14.800Z   \n",
      "3                        R  2024-08-27T18:22:14.800Z   \n",
      "4                        R  2024-08-27T18:22:14.800Z   \n",
      "\n",
      "                                       hash  \\\n",
      "0  51ec819011c936f387edf10b9d5839b35419ca95   \n",
      "1  b97481ee189819bedfc82da45902c285e97adac1   \n",
      "2  89dad7ad282644da289679375aa2ab32527cd600   \n",
      "3  275071f84fac2a80fb802b6b821ca06ccfa4b227   \n",
      "4  0248d9f210fb19d5147d1e5eb87d74e1e5f41d99   \n",
      "\n",
      "                                     id  \n",
      "0  9b73e19b-d326-4992-8da1-7e658d97607c  \n",
      "1  00045754-7992-448a-a8ae-181fb748a576  \n",
      "2  db2f2bd5-ef12-4f8a-a50c-6f4b52b4ac99  \n",
      "3  8b0c7315-d9c0-4b9e-8d10-23f4e26fbe85  \n",
      "4  674a9eb9-7875-4a5f-a1e8-7cde3b040678  \n",
      "\n",
      "[5 rows x 28 columns]\n"
     ]
    }
   ],
   "source": [
    "fema = pd.read_csv(\"C:/Users/kesdr/Downloads/fema_disaster_data.csv\")\n",
    "print(fema.head())"
   ]
  },
  {
   "cell_type": "code",
   "execution_count": 5,
   "id": "c55b76e0-982f-470c-a8ca-ad39d90ce7a1",
   "metadata": {},
   "outputs": [
    {
     "name": "stdout",
     "output_type": "stream",
     "text": [
      "Number of instances = 1684\n",
      "Number of attributes = 28\n"
     ]
    }
   ],
   "source": [
    "print('Number of instances = %d' % (fema.shape[0]))\n",
    "print('Number of attributes = %d' % (fema.shape[1]))"
   ]
  },
  {
   "cell_type": "code",
   "execution_count": 6,
   "id": "fdc9f701-1152-4edc-b1ff-79b455d447fb",
   "metadata": {},
   "outputs": [
    {
     "name": "stdout",
     "output_type": "stream",
     "text": [
      "Number of missing values:\n",
      "femaDeclarationString: 0\n",
      "disasterNumber: 0\n",
      "state: 0\n",
      "declarationType: 0\n",
      "declarationDate: 0\n",
      "fyDeclared: 0\n",
      "incidentType: 0\n",
      "declarationTitle: 0\n",
      "ihProgramDeclared: 0\n",
      "iaProgramDeclared: 0\n",
      "paProgramDeclared: 0\n",
      "hmProgramDeclared: 0\n",
      "incidentBeginDate: 0\n",
      "incidentEndDate: 86\n",
      "disasterCloseoutDate: 674\n",
      "tribalRequest: 0\n",
      "fipsStateCode: 0\n",
      "fipsCountyCode: 0\n",
      "placeCode: 0\n",
      "designatedArea: 0\n",
      "declarationRequestNumber: 0\n",
      "lastIAFilingDate: 1397\n",
      "incidentId: 0\n",
      "region: 0\n",
      "designatedIncidentTypes: 997\n",
      "lastRefresh: 0\n",
      "hash: 0\n",
      "id: 0\n"
     ]
    }
   ],
   "source": [
    "print('Number of missing values:')\n",
    "for col in fema.columns:\n",
    "    print(f'{col}: {fema[col].isna().sum()}')"
   ]
  },
  {
   "cell_type": "code",
   "execution_count": 7,
   "id": "7fc0abeb-84af-438c-acf2-df4d10ef45d0",
   "metadata": {},
   "outputs": [
    {
     "data": {
      "text/html": [
       "<div>\n",
       "<style scoped>\n",
       "    .dataframe tbody tr th:only-of-type {\n",
       "        vertical-align: middle;\n",
       "    }\n",
       "\n",
       "    .dataframe tbody tr th {\n",
       "        vertical-align: top;\n",
       "    }\n",
       "\n",
       "    .dataframe thead th {\n",
       "        text-align: right;\n",
       "    }\n",
       "</style>\n",
       "<table border=\"1\" class=\"dataframe\">\n",
       "  <thead>\n",
       "    <tr style=\"text-align: right;\">\n",
       "      <th></th>\n",
       "      <th>femaDeclarationString</th>\n",
       "      <th>disasterNumber</th>\n",
       "      <th>state</th>\n",
       "      <th>declarationType</th>\n",
       "      <th>declarationDate</th>\n",
       "      <th>fyDeclared</th>\n",
       "      <th>incidentType</th>\n",
       "      <th>declarationTitle</th>\n",
       "      <th>ihProgramDeclared</th>\n",
       "      <th>iaProgramDeclared</th>\n",
       "      <th>...</th>\n",
       "      <th>fipsCountyCode</th>\n",
       "      <th>placeCode</th>\n",
       "      <th>designatedArea</th>\n",
       "      <th>declarationRequestNumber</th>\n",
       "      <th>incidentId</th>\n",
       "      <th>region</th>\n",
       "      <th>designatedIncidentTypes</th>\n",
       "      <th>lastRefresh</th>\n",
       "      <th>hash</th>\n",
       "      <th>id</th>\n",
       "    </tr>\n",
       "  </thead>\n",
       "  <tbody>\n",
       "    <tr>\n",
       "      <th>0</th>\n",
       "      <td>FM-5522-CA</td>\n",
       "      <td>5522</td>\n",
       "      <td>CA</td>\n",
       "      <td>FM</td>\n",
       "      <td>2024-07-27T00:00:00.000Z</td>\n",
       "      <td>2024</td>\n",
       "      <td>Fire</td>\n",
       "      <td>BOREL FIRE</td>\n",
       "      <td>False</td>\n",
       "      <td>False</td>\n",
       "      <td>...</td>\n",
       "      <td>29</td>\n",
       "      <td>99029</td>\n",
       "      <td>Kern (County)</td>\n",
       "      <td>24102</td>\n",
       "      <td>2024072701</td>\n",
       "      <td>9</td>\n",
       "      <td>R</td>\n",
       "      <td>2024-08-27T18:22:14.800Z</td>\n",
       "      <td>51ec819011c936f387edf10b9d5839b35419ca95</td>\n",
       "      <td>9b73e19b-d326-4992-8da1-7e658d97607c</td>\n",
       "    </tr>\n",
       "    <tr>\n",
       "      <th>1</th>\n",
       "      <td>FM-5519-CA</td>\n",
       "      <td>5519</td>\n",
       "      <td>CA</td>\n",
       "      <td>FM</td>\n",
       "      <td>2024-07-25T00:00:00.000Z</td>\n",
       "      <td>2024</td>\n",
       "      <td>Fire</td>\n",
       "      <td>PARK FIRE</td>\n",
       "      <td>False</td>\n",
       "      <td>False</td>\n",
       "      <td>...</td>\n",
       "      <td>7</td>\n",
       "      <td>99007</td>\n",
       "      <td>Butte (County)</td>\n",
       "      <td>24097</td>\n",
       "      <td>2024072502</td>\n",
       "      <td>9</td>\n",
       "      <td>R</td>\n",
       "      <td>2024-08-27T18:22:14.800Z</td>\n",
       "      <td>b97481ee189819bedfc82da45902c285e97adac1</td>\n",
       "      <td>00045754-7992-448a-a8ae-181fb748a576</td>\n",
       "    </tr>\n",
       "    <tr>\n",
       "      <th>2</th>\n",
       "      <td>FM-5519-CA</td>\n",
       "      <td>5519</td>\n",
       "      <td>CA</td>\n",
       "      <td>FM</td>\n",
       "      <td>2024-07-25T00:00:00.000Z</td>\n",
       "      <td>2024</td>\n",
       "      <td>Fire</td>\n",
       "      <td>PARK FIRE</td>\n",
       "      <td>False</td>\n",
       "      <td>False</td>\n",
       "      <td>...</td>\n",
       "      <td>103</td>\n",
       "      <td>99103</td>\n",
       "      <td>Tehama (County)</td>\n",
       "      <td>24097</td>\n",
       "      <td>2024072502</td>\n",
       "      <td>9</td>\n",
       "      <td>R</td>\n",
       "      <td>2024-08-27T18:22:14.800Z</td>\n",
       "      <td>89dad7ad282644da289679375aa2ab32527cd600</td>\n",
       "      <td>db2f2bd5-ef12-4f8a-a50c-6f4b52b4ac99</td>\n",
       "    </tr>\n",
       "    <tr>\n",
       "      <th>3</th>\n",
       "      <td>FM-5515-CA</td>\n",
       "      <td>5515</td>\n",
       "      <td>CA</td>\n",
       "      <td>FM</td>\n",
       "      <td>2024-07-21T00:00:00.000Z</td>\n",
       "      <td>2024</td>\n",
       "      <td>Fire</td>\n",
       "      <td>HAWARDEN FIRE</td>\n",
       "      <td>False</td>\n",
       "      <td>False</td>\n",
       "      <td>...</td>\n",
       "      <td>65</td>\n",
       "      <td>99065</td>\n",
       "      <td>Riverside (County)</td>\n",
       "      <td>24088</td>\n",
       "      <td>2024072201</td>\n",
       "      <td>9</td>\n",
       "      <td>R</td>\n",
       "      <td>2024-08-27T18:22:14.800Z</td>\n",
       "      <td>275071f84fac2a80fb802b6b821ca06ccfa4b227</td>\n",
       "      <td>8b0c7315-d9c0-4b9e-8d10-23f4e26fbe85</td>\n",
       "    </tr>\n",
       "    <tr>\n",
       "      <th>4</th>\n",
       "      <td>FM-5503-CA</td>\n",
       "      <td>5503</td>\n",
       "      <td>CA</td>\n",
       "      <td>FM</td>\n",
       "      <td>2024-07-05T00:00:00.000Z</td>\n",
       "      <td>2024</td>\n",
       "      <td>Fire</td>\n",
       "      <td>FRENCH FIRE</td>\n",
       "      <td>False</td>\n",
       "      <td>False</td>\n",
       "      <td>...</td>\n",
       "      <td>43</td>\n",
       "      <td>99043</td>\n",
       "      <td>Mariposa (County)</td>\n",
       "      <td>24079</td>\n",
       "      <td>2024070501</td>\n",
       "      <td>9</td>\n",
       "      <td>R</td>\n",
       "      <td>2024-08-27T18:22:14.800Z</td>\n",
       "      <td>0248d9f210fb19d5147d1e5eb87d74e1e5f41d99</td>\n",
       "      <td>674a9eb9-7875-4a5f-a1e8-7cde3b040678</td>\n",
       "    </tr>\n",
       "    <tr>\n",
       "      <th>...</th>\n",
       "      <td>...</td>\n",
       "      <td>...</td>\n",
       "      <td>...</td>\n",
       "      <td>...</td>\n",
       "      <td>...</td>\n",
       "      <td>...</td>\n",
       "      <td>...</td>\n",
       "      <td>...</td>\n",
       "      <td>...</td>\n",
       "      <td>...</td>\n",
       "      <td>...</td>\n",
       "      <td>...</td>\n",
       "      <td>...</td>\n",
       "      <td>...</td>\n",
       "      <td>...</td>\n",
       "      <td>...</td>\n",
       "      <td>...</td>\n",
       "      <td>...</td>\n",
       "      <td>...</td>\n",
       "      <td>...</td>\n",
       "      <td>...</td>\n",
       "    </tr>\n",
       "    <tr>\n",
       "      <th>1679</th>\n",
       "      <td>DR-122-CA</td>\n",
       "      <td>122</td>\n",
       "      <td>CA</td>\n",
       "      <td>DR</td>\n",
       "      <td>1962-03-06T00:00:00.000Z</td>\n",
       "      <td>1962</td>\n",
       "      <td>Flood</td>\n",
       "      <td>FLOODS</td>\n",
       "      <td>False</td>\n",
       "      <td>True</td>\n",
       "      <td>...</td>\n",
       "      <td>0</td>\n",
       "      <td>0</td>\n",
       "      <td>Statewide</td>\n",
       "      <td>62007</td>\n",
       "      <td>62007</td>\n",
       "      <td>9</td>\n",
       "      <td>NaN</td>\n",
       "      <td>2024-08-27T18:22:14.800Z</td>\n",
       "      <td>cd2e965f0832198a6c5c788971f4daef295fdd93</td>\n",
       "      <td>eaf8a915-2f39-4481-9f44-b6df7e629f53</td>\n",
       "    </tr>\n",
       "    <tr>\n",
       "      <th>1680</th>\n",
       "      <td>DR-119-CA</td>\n",
       "      <td>119</td>\n",
       "      <td>CA</td>\n",
       "      <td>DR</td>\n",
       "      <td>1961-11-16T00:00:00.000Z</td>\n",
       "      <td>1962</td>\n",
       "      <td>Fire</td>\n",
       "      <td>FIRE (LOS ANGELES COUNTY)</td>\n",
       "      <td>False</td>\n",
       "      <td>True</td>\n",
       "      <td>...</td>\n",
       "      <td>0</td>\n",
       "      <td>0</td>\n",
       "      <td>Statewide</td>\n",
       "      <td>61019</td>\n",
       "      <td>61019</td>\n",
       "      <td>9</td>\n",
       "      <td>NaN</td>\n",
       "      <td>2024-08-27T18:22:14.800Z</td>\n",
       "      <td>404e782ee3c37ee52b97126888f3fd9f010a698b</td>\n",
       "      <td>2bcfe547-7f8d-4801-961e-58492893ca64</td>\n",
       "    </tr>\n",
       "    <tr>\n",
       "      <th>1681</th>\n",
       "      <td>DR-82-CA</td>\n",
       "      <td>82</td>\n",
       "      <td>CA</td>\n",
       "      <td>DR</td>\n",
       "      <td>1958-04-04T00:00:00.000Z</td>\n",
       "      <td>1958</td>\n",
       "      <td>Flood</td>\n",
       "      <td>HEAVY RAINSTORMS &amp; FLOOD</td>\n",
       "      <td>False</td>\n",
       "      <td>True</td>\n",
       "      <td>...</td>\n",
       "      <td>0</td>\n",
       "      <td>0</td>\n",
       "      <td>Statewide</td>\n",
       "      <td>58012</td>\n",
       "      <td>58012</td>\n",
       "      <td>9</td>\n",
       "      <td>W</td>\n",
       "      <td>2024-08-27T18:22:14.800Z</td>\n",
       "      <td>5cd7b7cdc477702499dca0bf2f66d27955cedafd</td>\n",
       "      <td>1d04457a-5ae5-4b7c-89c9-101403057a3a</td>\n",
       "    </tr>\n",
       "    <tr>\n",
       "      <th>1682</th>\n",
       "      <td>DR-65-CA</td>\n",
       "      <td>65</td>\n",
       "      <td>CA</td>\n",
       "      <td>DR</td>\n",
       "      <td>1956-12-29T00:00:00.000Z</td>\n",
       "      <td>1957</td>\n",
       "      <td>Fire</td>\n",
       "      <td>FOREST FIRE</td>\n",
       "      <td>False</td>\n",
       "      <td>True</td>\n",
       "      <td>...</td>\n",
       "      <td>0</td>\n",
       "      <td>0</td>\n",
       "      <td>Statewide</td>\n",
       "      <td>56018</td>\n",
       "      <td>56018</td>\n",
       "      <td>9</td>\n",
       "      <td>NaN</td>\n",
       "      <td>2024-08-27T18:22:14.800Z</td>\n",
       "      <td>a56f4b8eeb6ead2dd9c1a467bf9642d4f14c8e48</td>\n",
       "      <td>440c073c-ac03-45cb-8c91-4ee5a7d9c666</td>\n",
       "    </tr>\n",
       "    <tr>\n",
       "      <th>1683</th>\n",
       "      <td>DR-15-CA</td>\n",
       "      <td>15</td>\n",
       "      <td>CA</td>\n",
       "      <td>DR</td>\n",
       "      <td>1954-02-05T00:00:00.000Z</td>\n",
       "      <td>1954</td>\n",
       "      <td>Flood</td>\n",
       "      <td>FLOOD &amp; EROSION</td>\n",
       "      <td>False</td>\n",
       "      <td>True</td>\n",
       "      <td>...</td>\n",
       "      <td>0</td>\n",
       "      <td>0</td>\n",
       "      <td>Statewide</td>\n",
       "      <td>54016</td>\n",
       "      <td>54016</td>\n",
       "      <td>9</td>\n",
       "      <td>NaN</td>\n",
       "      <td>2024-08-27T18:22:14.800Z</td>\n",
       "      <td>bb406aed85108d8f443b66391a201ec1dc536b19</td>\n",
       "      <td>de6f0ab8-5a0d-4c78-b70e-8d522d629747</td>\n",
       "    </tr>\n",
       "  </tbody>\n",
       "</table>\n",
       "<p>1684 rows × 26 columns</p>\n",
       "</div>"
      ],
      "text/plain": [
       "     femaDeclarationString  disasterNumber state declarationType  \\\n",
       "0               FM-5522-CA            5522    CA              FM   \n",
       "1               FM-5519-CA            5519    CA              FM   \n",
       "2               FM-5519-CA            5519    CA              FM   \n",
       "3               FM-5515-CA            5515    CA              FM   \n",
       "4               FM-5503-CA            5503    CA              FM   \n",
       "...                    ...             ...   ...             ...   \n",
       "1679             DR-122-CA             122    CA              DR   \n",
       "1680             DR-119-CA             119    CA              DR   \n",
       "1681              DR-82-CA              82    CA              DR   \n",
       "1682              DR-65-CA              65    CA              DR   \n",
       "1683              DR-15-CA              15    CA              DR   \n",
       "\n",
       "               declarationDate  fyDeclared incidentType  \\\n",
       "0     2024-07-27T00:00:00.000Z        2024         Fire   \n",
       "1     2024-07-25T00:00:00.000Z        2024         Fire   \n",
       "2     2024-07-25T00:00:00.000Z        2024         Fire   \n",
       "3     2024-07-21T00:00:00.000Z        2024         Fire   \n",
       "4     2024-07-05T00:00:00.000Z        2024         Fire   \n",
       "...                        ...         ...          ...   \n",
       "1679  1962-03-06T00:00:00.000Z        1962        Flood   \n",
       "1680  1961-11-16T00:00:00.000Z        1962         Fire   \n",
       "1681  1958-04-04T00:00:00.000Z        1958        Flood   \n",
       "1682  1956-12-29T00:00:00.000Z        1957         Fire   \n",
       "1683  1954-02-05T00:00:00.000Z        1954        Flood   \n",
       "\n",
       "               declarationTitle  ihProgramDeclared  iaProgramDeclared  ...  \\\n",
       "0                    BOREL FIRE              False              False  ...   \n",
       "1                     PARK FIRE              False              False  ...   \n",
       "2                     PARK FIRE              False              False  ...   \n",
       "3                 HAWARDEN FIRE              False              False  ...   \n",
       "4                   FRENCH FIRE              False              False  ...   \n",
       "...                         ...                ...                ...  ...   \n",
       "1679                     FLOODS              False               True  ...   \n",
       "1680  FIRE (LOS ANGELES COUNTY)              False               True  ...   \n",
       "1681   HEAVY RAINSTORMS & FLOOD              False               True  ...   \n",
       "1682                FOREST FIRE              False               True  ...   \n",
       "1683            FLOOD & EROSION              False               True  ...   \n",
       "\n",
       "      fipsCountyCode  placeCode      designatedArea declarationRequestNumber  \\\n",
       "0                 29      99029       Kern (County)                    24102   \n",
       "1                  7      99007      Butte (County)                    24097   \n",
       "2                103      99103     Tehama (County)                    24097   \n",
       "3                 65      99065  Riverside (County)                    24088   \n",
       "4                 43      99043   Mariposa (County)                    24079   \n",
       "...              ...        ...                 ...                      ...   \n",
       "1679               0          0           Statewide                    62007   \n",
       "1680               0          0           Statewide                    61019   \n",
       "1681               0          0           Statewide                    58012   \n",
       "1682               0          0           Statewide                    56018   \n",
       "1683               0          0           Statewide                    54016   \n",
       "\n",
       "      incidentId  region  designatedIncidentTypes               lastRefresh  \\\n",
       "0     2024072701       9                        R  2024-08-27T18:22:14.800Z   \n",
       "1     2024072502       9                        R  2024-08-27T18:22:14.800Z   \n",
       "2     2024072502       9                        R  2024-08-27T18:22:14.800Z   \n",
       "3     2024072201       9                        R  2024-08-27T18:22:14.800Z   \n",
       "4     2024070501       9                        R  2024-08-27T18:22:14.800Z   \n",
       "...          ...     ...                      ...                       ...   \n",
       "1679       62007       9                      NaN  2024-08-27T18:22:14.800Z   \n",
       "1680       61019       9                      NaN  2024-08-27T18:22:14.800Z   \n",
       "1681       58012       9                        W  2024-08-27T18:22:14.800Z   \n",
       "1682       56018       9                      NaN  2024-08-27T18:22:14.800Z   \n",
       "1683       54016       9                      NaN  2024-08-27T18:22:14.800Z   \n",
       "\n",
       "                                          hash  \\\n",
       "0     51ec819011c936f387edf10b9d5839b35419ca95   \n",
       "1     b97481ee189819bedfc82da45902c285e97adac1   \n",
       "2     89dad7ad282644da289679375aa2ab32527cd600   \n",
       "3     275071f84fac2a80fb802b6b821ca06ccfa4b227   \n",
       "4     0248d9f210fb19d5147d1e5eb87d74e1e5f41d99   \n",
       "...                                        ...   \n",
       "1679  cd2e965f0832198a6c5c788971f4daef295fdd93   \n",
       "1680  404e782ee3c37ee52b97126888f3fd9f010a698b   \n",
       "1681  5cd7b7cdc477702499dca0bf2f66d27955cedafd   \n",
       "1682  a56f4b8eeb6ead2dd9c1a467bf9642d4f14c8e48   \n",
       "1683  bb406aed85108d8f443b66391a201ec1dc536b19   \n",
       "\n",
       "                                        id  \n",
       "0     9b73e19b-d326-4992-8da1-7e658d97607c  \n",
       "1     00045754-7992-448a-a8ae-181fb748a576  \n",
       "2     db2f2bd5-ef12-4f8a-a50c-6f4b52b4ac99  \n",
       "3     8b0c7315-d9c0-4b9e-8d10-23f4e26fbe85  \n",
       "4     674a9eb9-7875-4a5f-a1e8-7cde3b040678  \n",
       "...                                    ...  \n",
       "1679  eaf8a915-2f39-4481-9f44-b6df7e629f53  \n",
       "1680  2bcfe547-7f8d-4801-961e-58492893ca64  \n",
       "1681  1d04457a-5ae5-4b7c-89c9-101403057a3a  \n",
       "1682  440c073c-ac03-45cb-8c91-4ee5a7d9c666  \n",
       "1683  de6f0ab8-5a0d-4c78-b70e-8d522d629747  \n",
       "\n",
       "[1684 rows x 26 columns]"
      ]
     },
     "execution_count": 7,
     "metadata": {},
     "output_type": "execute_result"
    }
   ],
   "source": [
    "femadrop = fema.drop(columns=['lastIAFilingDate','disasterCloseoutDate'])\n",
    "femadrop"
   ]
  },
  {
   "cell_type": "code",
   "execution_count": 8,
   "id": "8c3cf018-a4db-49a4-8c02-626630d73b9e",
   "metadata": {},
   "outputs": [],
   "source": [
    "DIT_mode = femadrop['designatedIncidentTypes'].mode()[0]\n",
    "femadrop.loc[:, 'designatedIncidentTypes'] = femadrop['designatedIncidentTypes'].fillna(DIT_mode)"
   ]
  },
  {
   "cell_type": "code",
   "execution_count": 9,
   "id": "c466f850-b087-4ab6-8baa-0e8a15e7405a",
   "metadata": {},
   "outputs": [
    {
     "name": "stdout",
     "output_type": "stream",
     "text": [
      "Number of missing values:\n",
      "femaDeclarationString: 0\n",
      "disasterNumber: 0\n",
      "state: 0\n",
      "declarationType: 0\n",
      "declarationDate: 0\n",
      "fyDeclared: 0\n",
      "incidentType: 0\n",
      "declarationTitle: 0\n",
      "ihProgramDeclared: 0\n",
      "iaProgramDeclared: 0\n",
      "paProgramDeclared: 0\n",
      "hmProgramDeclared: 0\n",
      "incidentBeginDate: 0\n",
      "incidentEndDate: 86\n",
      "tribalRequest: 0\n",
      "fipsStateCode: 0\n",
      "fipsCountyCode: 0\n",
      "placeCode: 0\n",
      "designatedArea: 0\n",
      "declarationRequestNumber: 0\n",
      "incidentId: 0\n",
      "region: 0\n",
      "designatedIncidentTypes: 0\n",
      "lastRefresh: 0\n",
      "hash: 0\n",
      "id: 0\n"
     ]
    }
   ],
   "source": [
    "print('Number of missing values:')\n",
    "for col in femadrop.columns:\n",
    "    print(f'{col}: {femadrop[col].isna().sum()}')"
   ]
  },
  {
   "cell_type": "code",
   "execution_count": 10,
   "id": "79a85d53-ce6e-4cc7-b82a-23fe49bac334",
   "metadata": {},
   "outputs": [
    {
     "name": "stdout",
     "output_type": "stream",
     "text": [
      "0\n"
     ]
    }
   ],
   "source": [
    "femadrop = femadrop.dropna(subset=['incidentEndDate'])\n",
    "print(femadrop['incidentEndDate'].isna().sum())"
   ]
  },
  {
   "cell_type": "code",
   "execution_count": 11,
   "id": "7d1a56cf-515a-4956-894b-e03a515764fb",
   "metadata": {},
   "outputs": [
    {
     "name": "stdout",
     "output_type": "stream",
     "text": [
      "Duplicate rows: 0\n"
     ]
    }
   ],
   "source": [
    "print(f\"Duplicate rows: {femadrop.duplicated().sum()}\")"
   ]
  },
  {
   "cell_type": "code",
   "execution_count": 12,
   "id": "66206865-6657-49b3-a994-90b1cd083e55",
   "metadata": {},
   "outputs": [
    {
     "name": "stdout",
     "output_type": "stream",
     "text": [
      "femaDeclarationString       object\n",
      "disasterNumber               int64\n",
      "state                       object\n",
      "declarationType             object\n",
      "declarationDate             object\n",
      "fyDeclared                   int64\n",
      "incidentType                object\n",
      "declarationTitle            object\n",
      "ihProgramDeclared             bool\n",
      "iaProgramDeclared             bool\n",
      "paProgramDeclared             bool\n",
      "hmProgramDeclared             bool\n",
      "incidentBeginDate           object\n",
      "incidentEndDate             object\n",
      "tribalRequest                 bool\n",
      "fipsStateCode                int64\n",
      "fipsCountyCode               int64\n",
      "placeCode                    int64\n",
      "designatedArea              object\n",
      "declarationRequestNumber     int64\n",
      "incidentId                   int64\n",
      "region                       int64\n",
      "designatedIncidentTypes     object\n",
      "lastRefresh                 object\n",
      "hash                        object\n",
      "id                          object\n",
      "dtype: object\n"
     ]
    }
   ],
   "source": [
    "print(femadrop.dtypes)"
   ]
  },
  {
   "cell_type": "code",
   "execution_count": 13,
   "id": "6e914d9d-5d0d-4ec2-b24e-906e80808f2b",
   "metadata": {},
   "outputs": [],
   "source": [
    "femadrop = femadrop.copy()"
   ]
  },
  {
   "cell_type": "code",
   "execution_count": 17,
   "id": "c1020e14-9858-428c-81f3-caae16978cb7",
   "metadata": {},
   "outputs": [],
   "source": [
    "femadrop['declarationDate'] = pd.to_datetime(femadrop['declarationDate'])\n",
    "femadrop['incidentEndDate'] = pd.to_datetime(femadrop['incidentEndDate'])\n",
    "femadrop['incidentBeginDate'] = pd.to_datetime(femadrop['incidentBeginDate'])"
   ]
  },
  {
   "cell_type": "code",
   "execution_count": 18,
   "id": "51ebfca0-495e-4ed8-a1c0-0fc7c45420fb",
   "metadata": {},
   "outputs": [],
   "source": [
    "categorical_cols = ['state', 'declarationType', 'incidentType', 'fipsStateCode', 'fipsCountyCode', 'designatedArea']\n",
    "\n",
    "for col in categorical_cols:\n",
    "    femadrop[col] = femadrop[col].astype('category')"
   ]
  },
  {
   "cell_type": "code",
   "execution_count": 19,
   "id": "decb951e-3d71-4968-830b-c470c7259e39",
   "metadata": {},
   "outputs": [
    {
     "name": "stdout",
     "output_type": "stream",
     "text": [
      "femaDeclarationString                    object\n",
      "disasterNumber                            int64\n",
      "state                                  category\n",
      "declarationType                        category\n",
      "declarationDate             datetime64[ns, UTC]\n",
      "fyDeclared                                int64\n",
      "incidentType                           category\n",
      "declarationTitle                         object\n",
      "ihProgramDeclared                          bool\n",
      "iaProgramDeclared                          bool\n",
      "paProgramDeclared                          bool\n",
      "hmProgramDeclared                          bool\n",
      "incidentBeginDate           datetime64[ns, UTC]\n",
      "incidentEndDate             datetime64[ns, UTC]\n",
      "tribalRequest                              bool\n",
      "fipsStateCode                          category\n",
      "fipsCountyCode                         category\n",
      "placeCode                                 int64\n",
      "designatedArea                         category\n",
      "declarationRequestNumber                  int64\n",
      "incidentId                                int64\n",
      "region                                    int64\n",
      "designatedIncidentTypes                  object\n",
      "lastRefresh                              object\n",
      "hash                                     object\n",
      "id                                       object\n",
      "dtype: object\n"
     ]
    }
   ],
   "source": [
    "print(femadrop.dtypes)"
   ]
  },
  {
   "cell_type": "code",
   "execution_count": 20,
   "id": "7bbc621c-c42b-4c00-a0fe-99c20490166c",
   "metadata": {},
   "outputs": [
    {
     "name": "stdout",
     "output_type": "stream",
     "text": [
      "['Fire', 'Severe Storm', 'Flood', 'Hurricane', 'Tropical Storm', ..., 'Drought', 'Tsunami', 'Freezing', 'Fishing Losses', 'Other']\n",
      "Length: 15\n",
      "Categories (15, object): ['Biological', 'Coastal Storm', 'Dam/Levee Break', 'Drought', ..., 'Severe Storm', 'Tropical Storm', 'Tsunami', 'Winter Storm']\n"
     ]
    }
   ],
   "source": [
    "print(femadrop['incidentType'].unique())"
   ]
  },
  {
   "cell_type": "code",
   "execution_count": 21,
   "id": "c2ad7fee-a0be-47b0-9c51-83517b70a6b8",
   "metadata": {},
   "outputs": [
    {
     "name": "stdout",
     "output_type": "stream",
     "text": [
      "incidentType\n",
      "Flood              449\n",
      "Fire               391\n",
      "Severe Storm       384\n",
      "Biological         116\n",
      "Hurricane           64\n",
      "Freezing            57\n",
      "Drought             47\n",
      "Coastal Storm       43\n",
      "Earthquake          32\n",
      "Dam/Levee Break      5\n",
      "Fishing Losses       4\n",
      "Tsunami              3\n",
      "Other                1\n",
      "Tropical Storm       1\n",
      "Winter Storm         1\n",
      "Name: count, dtype: int64\n"
     ]
    }
   ],
   "source": [
    "print(femadrop['incidentType'].value_counts())"
   ]
  },
  {
   "cell_type": "code",
   "execution_count": 22,
   "id": "68ce13b3-4f2c-4618-99cb-d23f4d89f35a",
   "metadata": {},
   "outputs": [
    {
     "name": "stdout",
     "output_type": "stream",
     "text": [
      "['CA']\n",
      "Categories (1, object): ['CA']\n",
      "['El Dorado (County)', 'Placer (County)', 'Riverside (County)', 'Siskiyou (County)', 'Mariposa (County)', ..., 'Resighini Rancheria (Indian Reservation)', 'Tule River Indian Reservation', 'Karuk Reservation', 'Yurok Indian Reservation', 'Statewide']\n",
      "Length: 72\n",
      "Categories (72, object): ['Agua Caliente Indian Reservation', 'Alameda (County)', 'Alpine (County)', 'Amador (County)', ..., 'Ventura (County)', 'Yolo (County)', 'Yuba (County)', 'Yurok Indian Reservation']\n",
      "[99017 99061 99065 99093 99043 99059 99083 99089 99029 99071 99053 99057\n",
      " 49334 99111 99037 99097 34659 99033 99045 99105 99073 99107 99039 99007\n",
      " 99079 99019 99055 99005 99009 99095 99113 99049 99035 99109 10522 99103\n",
      " 34554 99021 99087 99101 99025 99027   422 39374 72468 99001 99003 99015\n",
      " 99023 99031 99041 99047 99063 99067 99075 99077 99081 99085 99091 99099\n",
      " 99051 99069 62564 99011 99013 99115  9528 60347 80714 37825 87063     0]\n",
      "[6]\n",
      "Categories (1, int64): [6]\n",
      "[17, 61, 65, 93, 43, ..., 51, 69, 11, 13, 115]\n",
      "Length: 59\n",
      "Categories (59, int64): [0, 1, 3, 5, ..., 109, 111, 113, 115]\n"
     ]
    }
   ],
   "source": [
    "print(femadrop['state'].unique())\n",
    "print(femadrop['designatedArea'].unique())\n",
    "print(femadrop['placeCode'].unique())\n",
    "print(femadrop['fipsStateCode'].unique())\n",
    "print(femadrop['fipsCountyCode'].unique())"
   ]
  },
  {
   "cell_type": "code",
   "execution_count": 23,
   "id": "4d10a613-6784-4b7d-b869-3b63676c8341",
   "metadata": {},
   "outputs": [
    {
     "name": "stdout",
     "output_type": "stream",
     "text": [
      "state\n",
      "CA    1598\n",
      "Name: count, dtype: int64\n"
     ]
    }
   ],
   "source": [
    "print(femadrop['state'].value_counts())"
   ]
  },
  {
   "cell_type": "code",
   "execution_count": 24,
   "id": "33341acb-742c-490e-9212-56ada83461a9",
   "metadata": {},
   "outputs": [],
   "source": [
    "date_cols = ['declarationDate', 'incidentEndDate', 'incidentBeginDate']\n",
    "\n",
    "for col in date_cols:\n",
    "    femadrop[col] = femadrop[col].dt.strftime('%Y-%m-%d')"
   ]
  },
  {
   "cell_type": "code",
   "execution_count": 25,
   "id": "4fb0bc85-33ed-498d-8df1-dd126bdf987a",
   "metadata": {},
   "outputs": [
    {
     "name": "stdout",
     "output_type": "stream",
     "text": [
      "   declarationDate incidentEndDate incidentBeginDate\n",
      "6       2022-09-09      2022-09-26        2022-09-09\n",
      "7       2022-09-09      2022-09-26        2022-09-09\n",
      "8       2022-09-06      2022-09-14        2022-09-05\n",
      "9       2022-09-02      2022-09-09        2022-09-02\n",
      "10      2022-07-23      2022-08-03        2022-07-22\n"
     ]
    }
   ],
   "source": [
    "print(femadrop[['declarationDate', 'incidentEndDate', 'incidentBeginDate']].head())"
   ]
  },
  {
   "cell_type": "code",
   "execution_count": 27,
   "id": "004d7458-a9fb-4400-b10b-d0c786eeddbc",
   "metadata": {},
   "outputs": [],
   "source": [
    "femadrop['incidentBeginDate'] = pd.to_datetime(femadrop['incidentBeginDate'])"
   ]
  },
  {
   "cell_type": "code",
   "execution_count": 29,
   "id": "feaaa15f-de17-40b1-b604-e8bce1b28085",
   "metadata": {},
   "outputs": [],
   "source": [
    "femadrop['incidentYear'] = femadrop['incidentBeginDate'].dt.year"
   ]
  },
  {
   "cell_type": "code",
   "execution_count": 30,
   "id": "8079a7ea-25cb-4e50-b309-c231709dcf08",
   "metadata": {},
   "outputs": [
    {
     "name": "stdout",
     "output_type": "stream",
     "text": [
      "   incidentBeginDate  incidentYear\n",
      "6         2022-09-09          2022\n",
      "7         2022-09-09          2022\n",
      "8         2022-09-05          2022\n",
      "9         2022-09-02          2022\n",
      "10        2022-07-22          2022\n"
     ]
    }
   ],
   "source": [
    "print(femadrop[['incidentBeginDate', 'incidentYear']].head())"
   ]
  },
  {
   "cell_type": "code",
   "execution_count": null,
   "id": "fd92e207-5471-4b89-9b2f-5d06cdd2a3d3",
   "metadata": {},
   "outputs": [],
   "source": []
  }
 ],
 "metadata": {
  "kernelspec": {
   "display_name": "Python 3 (ipykernel)",
   "language": "python",
   "name": "python3"
  },
  "language_info": {
   "codemirror_mode": {
    "name": "ipython",
    "version": 3
   },
   "file_extension": ".py",
   "mimetype": "text/x-python",
   "name": "python",
   "nbconvert_exporter": "python",
   "pygments_lexer": "ipython3",
   "version": "3.12.5"
  }
 },
 "nbformat": 4,
 "nbformat_minor": 5
}
