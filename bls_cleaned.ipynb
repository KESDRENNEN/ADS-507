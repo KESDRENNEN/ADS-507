{
 "cells": [
  {
   "cell_type": "code",
   "execution_count": 3,
   "id": "e139d1e2-16e6-4870-8b59-df2a39f96e51",
   "metadata": {},
   "outputs": [
    {
     "name": "stdout",
     "output_type": "stream",
     "text": [
      "Requirement already satisfied: pandas in c:\\users\\kesdr\\miniconda3\\envs\\adsfinal\\lib\\site-packages (2.2.3)\n",
      "Requirement already satisfied: numpy>=1.26.0 in c:\\users\\kesdr\\miniconda3\\envs\\adsfinal\\lib\\site-packages (from pandas) (2.2.2)\n",
      "Requirement already satisfied: python-dateutil>=2.8.2 in c:\\users\\kesdr\\miniconda3\\envs\\adsfinal\\lib\\site-packages (from pandas) (2.9.0)\n",
      "Requirement already satisfied: pytz>=2020.1 in c:\\users\\kesdr\\miniconda3\\envs\\adsfinal\\lib\\site-packages (from pandas) (2024.1)\n",
      "Requirement already satisfied: tzdata>=2022.7 in c:\\users\\kesdr\\miniconda3\\envs\\adsfinal\\lib\\site-packages (from pandas) (2025.1)\n",
      "Requirement already satisfied: six>=1.5 in c:\\users\\kesdr\\miniconda3\\envs\\adsfinal\\lib\\site-packages (from python-dateutil>=2.8.2->pandas) (1.16.0)\n",
      "Collecting scikit-learn\n",
      "  Using cached scikit_learn-1.6.1-cp312-cp312-win_amd64.whl.metadata (15 kB)\n",
      "Requirement already satisfied: numpy>=1.19.5 in c:\\users\\kesdr\\miniconda3\\envs\\adsfinal\\lib\\site-packages (from scikit-learn) (2.2.2)\n",
      "Collecting scipy>=1.6.0 (from scikit-learn)\n",
      "  Downloading scipy-1.15.1-cp312-cp312-win_amd64.whl.metadata (60 kB)\n",
      "Collecting joblib>=1.2.0 (from scikit-learn)\n",
      "  Using cached joblib-1.4.2-py3-none-any.whl.metadata (5.4 kB)\n",
      "Collecting threadpoolctl>=3.1.0 (from scikit-learn)\n",
      "  Using cached threadpoolctl-3.5.0-py3-none-any.whl.metadata (13 kB)\n",
      "Using cached scikit_learn-1.6.1-cp312-cp312-win_amd64.whl (11.1 MB)\n",
      "Using cached joblib-1.4.2-py3-none-any.whl (301 kB)\n",
      "Downloading scipy-1.15.1-cp312-cp312-win_amd64.whl (43.6 MB)\n",
      "   ---------------------------------------- 0.0/43.6 MB ? eta -:--:--\n",
      "   -- ------------------------------------- 2.9/43.6 MB 14.0 MB/s eta 0:00:03\n",
      "   ----- ---------------------------------- 6.0/43.6 MB 14.2 MB/s eta 0:00:03\n",
      "   -------- ------------------------------- 8.9/43.6 MB 14.2 MB/s eta 0:00:03\n",
      "   ---------- ----------------------------- 11.8/43.6 MB 14.5 MB/s eta 0:00:03\n",
      "   ------------- -------------------------- 14.9/43.6 MB 14.4 MB/s eta 0:00:02\n",
      "   ---------------- ----------------------- 18.1/43.6 MB 14.4 MB/s eta 0:00:02\n",
      "   ------------------- -------------------- 21.0/43.6 MB 14.6 MB/s eta 0:00:02\n",
      "   ---------------------- ----------------- 24.1/43.6 MB 14.5 MB/s eta 0:00:02\n",
      "   ------------------------ --------------- 27.0/43.6 MB 14.5 MB/s eta 0:00:02\n",
      "   --------------------------- ------------ 30.1/43.6 MB 14.5 MB/s eta 0:00:01\n",
      "   ------------------------------ --------- 33.3/43.6 MB 14.5 MB/s eta 0:00:01\n",
      "   --------------------------------- ------ 36.4/43.6 MB 14.6 MB/s eta 0:00:01\n",
      "   ------------------------------------ --- 39.3/43.6 MB 14.5 MB/s eta 0:00:01\n",
      "   -------------------------------------- - 42.5/43.6 MB 14.5 MB/s eta 0:00:01\n",
      "   ---------------------------------------- 43.6/43.6 MB 13.9 MB/s eta 0:00:00\n",
      "Using cached threadpoolctl-3.5.0-py3-none-any.whl (18 kB)\n",
      "Installing collected packages: threadpoolctl, scipy, joblib, scikit-learn\n",
      "Successfully installed joblib-1.4.2 scikit-learn-1.6.1 scipy-1.15.1 threadpoolctl-3.5.0\n"
     ]
    }
   ],
   "source": [
    "!pip install pandas\n",
    "!pip install scikit-learn"
   ]
  },
  {
   "cell_type": "code",
   "execution_count": 4,
   "id": "b44962d8-d069-4807-a2c9-1e5c70812229",
   "metadata": {},
   "outputs": [],
   "source": [
    "import pandas as pd\n",
    "from scipy import stats\n",
    "from sklearn.cluster import KMeans\n",
    "import numpy as np"
   ]
  },
  {
   "cell_type": "code",
   "execution_count": 7,
   "id": "c798e4c0-adbc-4d05-87f6-a9c0053ff343",
   "metadata": {},
   "outputs": [
    {
     "name": "stdout",
     "output_type": "stream",
     "text": [
      "              series_id  year period  value     footnotes\n",
      "0  LAUMT063108000000003  2024    M11    5.4  Preliminary.\n",
      "1  LAUMT063108000000003  2024    M10    5.6           NaN\n",
      "2  LAUMT063108000000003  2024    M09    5.5           NaN\n",
      "3  LAUMT063108000000003  2024    M08    6.2           NaN\n",
      "4  LAUMT063108000000003  2024    M07    6.0           NaN\n"
     ]
    }
   ],
   "source": [
    "bls = pd.read_csv(\"C:/Users/kesdr/Downloads/bls_data.csv\")\n",
    "print(bls.head())"
   ]
  },
  {
   "cell_type": "code",
   "execution_count": 8,
   "id": "24ce818d-b21f-4a6b-8bc4-847cbea0a128",
   "metadata": {},
   "outputs": [
    {
     "name": "stdout",
     "output_type": "stream",
     "text": [
      "Number of instances = 524\n",
      "Number of attributes = 5\n"
     ]
    }
   ],
   "source": [
    "print('Number of instances = %d' % (bls.shape[0]))\n",
    "print('Number of attributes = %d' % (bls.shape[1]))"
   ]
  },
  {
   "cell_type": "code",
   "execution_count": 10,
   "id": "5d1f4d90-53d8-421e-80a1-bb2beccc24f6",
   "metadata": {},
   "outputs": [
    {
     "name": "stdout",
     "output_type": "stream",
     "text": [
      "Number of missing values:\n",
      "series_id: 0\n",
      "year: 0\n",
      "period: 0\n",
      "value: 0\n",
      "footnotes: 520\n"
     ]
    }
   ],
   "source": [
    "print('Number of missing values:')\n",
    "for col in bls.columns:\n",
    "    print(f'{col}: {bls[col].isna().sum()}')"
   ]
  },
  {
   "cell_type": "code",
   "execution_count": 11,
   "id": "8c6293a9-8115-4fee-9384-4461da763112",
   "metadata": {},
   "outputs": [
    {
     "data": {
      "text/html": [
       "<div>\n",
       "<style scoped>\n",
       "    .dataframe tbody tr th:only-of-type {\n",
       "        vertical-align: middle;\n",
       "    }\n",
       "\n",
       "    .dataframe tbody tr th {\n",
       "        vertical-align: top;\n",
       "    }\n",
       "\n",
       "    .dataframe thead th {\n",
       "        text-align: right;\n",
       "    }\n",
       "</style>\n",
       "<table border=\"1\" class=\"dataframe\">\n",
       "  <thead>\n",
       "    <tr style=\"text-align: right;\">\n",
       "      <th></th>\n",
       "      <th>series_id</th>\n",
       "      <th>year</th>\n",
       "      <th>period</th>\n",
       "      <th>value</th>\n",
       "    </tr>\n",
       "  </thead>\n",
       "  <tbody>\n",
       "    <tr>\n",
       "      <th>0</th>\n",
       "      <td>LAUMT063108000000003</td>\n",
       "      <td>2024</td>\n",
       "      <td>M11</td>\n",
       "      <td>5.4</td>\n",
       "    </tr>\n",
       "    <tr>\n",
       "      <th>1</th>\n",
       "      <td>LAUMT063108000000003</td>\n",
       "      <td>2024</td>\n",
       "      <td>M10</td>\n",
       "      <td>5.6</td>\n",
       "    </tr>\n",
       "    <tr>\n",
       "      <th>2</th>\n",
       "      <td>LAUMT063108000000003</td>\n",
       "      <td>2024</td>\n",
       "      <td>M09</td>\n",
       "      <td>5.5</td>\n",
       "    </tr>\n",
       "    <tr>\n",
       "      <th>3</th>\n",
       "      <td>LAUMT063108000000003</td>\n",
       "      <td>2024</td>\n",
       "      <td>M08</td>\n",
       "      <td>6.2</td>\n",
       "    </tr>\n",
       "    <tr>\n",
       "      <th>4</th>\n",
       "      <td>LAUMT063108000000003</td>\n",
       "      <td>2024</td>\n",
       "      <td>M07</td>\n",
       "      <td>6.0</td>\n",
       "    </tr>\n",
       "    <tr>\n",
       "      <th>...</th>\n",
       "      <td>...</td>\n",
       "      <td>...</td>\n",
       "      <td>...</td>\n",
       "      <td>...</td>\n",
       "    </tr>\n",
       "    <tr>\n",
       "      <th>519</th>\n",
       "      <td>LAUMT063108000000006</td>\n",
       "      <td>2014</td>\n",
       "      <td>M05</td>\n",
       "      <td>6523953.0</td>\n",
       "    </tr>\n",
       "    <tr>\n",
       "      <th>520</th>\n",
       "      <td>LAUMT063108000000006</td>\n",
       "      <td>2014</td>\n",
       "      <td>M04</td>\n",
       "      <td>6505721.0</td>\n",
       "    </tr>\n",
       "    <tr>\n",
       "      <th>521</th>\n",
       "      <td>LAUMT063108000000006</td>\n",
       "      <td>2014</td>\n",
       "      <td>M03</td>\n",
       "      <td>6544226.0</td>\n",
       "    </tr>\n",
       "    <tr>\n",
       "      <th>522</th>\n",
       "      <td>LAUMT063108000000006</td>\n",
       "      <td>2014</td>\n",
       "      <td>M02</td>\n",
       "      <td>6527749.0</td>\n",
       "    </tr>\n",
       "    <tr>\n",
       "      <th>523</th>\n",
       "      <td>LAUMT063108000000006</td>\n",
       "      <td>2014</td>\n",
       "      <td>M01</td>\n",
       "      <td>6483077.0</td>\n",
       "    </tr>\n",
       "  </tbody>\n",
       "</table>\n",
       "<p>524 rows × 4 columns</p>\n",
       "</div>"
      ],
      "text/plain": [
       "                series_id  year period      value\n",
       "0    LAUMT063108000000003  2024    M11        5.4\n",
       "1    LAUMT063108000000003  2024    M10        5.6\n",
       "2    LAUMT063108000000003  2024    M09        5.5\n",
       "3    LAUMT063108000000003  2024    M08        6.2\n",
       "4    LAUMT063108000000003  2024    M07        6.0\n",
       "..                    ...   ...    ...        ...\n",
       "519  LAUMT063108000000006  2014    M05  6523953.0\n",
       "520  LAUMT063108000000006  2014    M04  6505721.0\n",
       "521  LAUMT063108000000006  2014    M03  6544226.0\n",
       "522  LAUMT063108000000006  2014    M02  6527749.0\n",
       "523  LAUMT063108000000006  2014    M01  6483077.0\n",
       "\n",
       "[524 rows x 4 columns]"
      ]
     },
     "execution_count": 11,
     "metadata": {},
     "output_type": "execute_result"
    }
   ],
   "source": [
    "blsdrop = bls.drop(columns=['footnotes'])\n",
    "blsdrop"
   ]
  },
  {
   "cell_type": "code",
   "execution_count": 12,
   "id": "18b3d952-803e-4fd9-8be1-120c1c063159",
   "metadata": {},
   "outputs": [
    {
     "name": "stdout",
     "output_type": "stream",
     "text": [
      "Number of missing values:\n",
      "series_id: 0\n",
      "year: 0\n",
      "period: 0\n",
      "value: 0\n"
     ]
    }
   ],
   "source": [
    "print('Number of missing values:')\n",
    "for col in blsdrop.columns:\n",
    "    print(f'{col}: {blsdrop[col].isna().sum()}')"
   ]
  },
  {
   "cell_type": "code",
   "execution_count": 13,
   "id": "fc72a561-3932-4422-adf2-a384ca255257",
   "metadata": {},
   "outputs": [
    {
     "name": "stdout",
     "output_type": "stream",
     "text": [
      "Duplicate rows: 0\n"
     ]
    }
   ],
   "source": [
    "print(f\"Duplicate rows: {blsdrop.duplicated().sum()}\")"
   ]
  },
  {
   "cell_type": "code",
   "execution_count": null,
   "id": "d3b52c1f-2613-4713-b6d8-b0846eb056c3",
   "metadata": {},
   "outputs": [],
   "source": []
  }
 ],
 "metadata": {
  "kernelspec": {
   "display_name": "Python 3 (ipykernel)",
   "language": "python",
   "name": "python3"
  },
  "language_info": {
   "codemirror_mode": {
    "name": "ipython",
    "version": 3
   },
   "file_extension": ".py",
   "mimetype": "text/x-python",
   "name": "python",
   "nbconvert_exporter": "python",
   "pygments_lexer": "ipython3",
   "version": "3.12.5"
  }
 },
 "nbformat": 4,
 "nbformat_minor": 5
}
